{
 "cells": [
  {
   "cell_type": "code",
   "execution_count": 106,
   "metadata": {},
   "outputs": [],
   "source": [
    "import process_output\n",
    "from PIL import Image, ImageEnhance, ImageFilter\n",
    "import requests\n",
    "from io import BytesIO\n",
    "import imgkit\n",
    "import json"
   ]
  },
  {
   "cell_type": "code",
   "execution_count": 107,
   "metadata": {},
   "outputs": [],
   "source": [
    "def get_unsplash_url(client_id, query, orientation):\n",
    "    \n",
    "    root = 'https://api.unsplash.com/'\n",
    "    path = 'photos/random/?client_id={}&query={}&orientation={}'\n",
    "    search_url = root + path.format(client_id, query, orientation)\n",
    "    \n",
    "    api_response = requests.get(search_url)\n",
    "    data = api_response.json()\n",
    "    api_response.close()\n",
    "    #print(json.dumps(data, indent=4, sort_keys=True))\n",
    "    \n",
    "    return data['urls']['regular']\n",
    "\n",
    "client_id = 'L-CxZwGQjlKToJ1xdSiBCnj1gAyUJ0nBLKYqaQOXOAg'\n",
    "query = 'nature dark'\n",
    "orientation = 'landscape'\n",
    "\n",
    "image_url = get_unsplash_url(client_id, query, orientation)"
   ]
  },
  {
   "cell_type": "code",
   "execution_count": 108,
   "metadata": {},
   "outputs": [],
   "source": [
    "quote_text = process_output.get_quote()\n",
    "\n",
    "image_response = requests.get(image_url)\n",
    "img = Image.open(BytesIO(image_response.content))\n",
    "image_response.close()\n",
    "\n",
    "# resize down until either a desired width or height is acheived, then crop the other dimension\n",
    "# to acheive a non-distorted version of the image with desired dimensions\n",
    "def resize_crop(im, desired_width=800, desired_height=600):\n",
    "    \n",
    "    width, height = im.size\n",
    "    if width/height > desired_width/desired_height:\n",
    "        im.thumbnail((width, desired_height))\n",
    "    else:\n",
    "        im.thumbnail((desired_width, height))\n",
    "        \n",
    "    width, height = im.size\n",
    "    box = [0, 0, width, height] # left, upper, right, lower\n",
    "    if width > desired_width:\n",
    "        box[0] = width/2 - desired_width/2\n",
    "        box[2] = width/2 + desired_width/2\n",
    "    if height > desired_height:\n",
    "        box[1] = height/2 - desired_height/2\n",
    "        box[3] = height/2 + desired_height/2\n",
    "    \n",
    "    im = im.crop(box=box)\n",
    "    return im\n",
    "\n",
    "def reduce_color(im, desired_color=0.5):\n",
    "    converter = ImageEnhance.Color(im)\n",
    "    im = converter.enhance(desired_color)\n",
    "    return im\n",
    "\n",
    "def gaussian_blur(im, radius=2):\n",
    "    im = im.filter(ImageFilter.GaussianBlur(radius=radius))\n",
    "    return im\n",
    "\n",
    "img = resize_crop(img)\n",
    "img = reduce_color(img)\n",
    "#img = gaussian_blur(img)\n",
    "img.save('templates-and-assets/backdrop.jpg')"
   ]
  },
  {
   "cell_type": "code",
   "execution_count": 109,
   "metadata": {},
   "outputs": [],
   "source": [
    "html_doc = None\n",
    "\n",
    "with open('templates-and-assets/image_template.html', 'r') as f:\n",
    "    html_doc = f.read()\n",
    "\n",
    "html_doc = html_doc.replace('dynamictext', quote_text)\n",
    "\n",
    "#print(len(quote_text))\n",
    "\n",
    "def get_font_size(text):\n",
    "    size = len(text)\n",
    "    if size < 40:\n",
    "        return '44'\n",
    "    if size < 75:\n",
    "        return '36'\n",
    "    return '30'\n",
    "\n",
    "html_doc = html_doc.replace('dynamicfontsize', get_font_size(quote_text))\n",
    "\n",
    "with open('templates-and-assets/image_out.html', 'w') as f:\n",
    "    f.write(html_doc)"
   ]
  },
  {
   "cell_type": "code",
   "execution_count": 110,
   "metadata": {},
   "outputs": [
    {
     "name": "stdout",
     "output_type": "stream",
     "text": [
      "Loading page (1/2)\n",
      "[>                                                           ] 0%\r",
      "[======>                                                     ] 10%\r",
      "[==========>                                                 ] 17%\r",
      "[====================>                                       ] 34%\r",
      "[==========================>                                 ] 44%\r",
      "[==========================>                                 ] 44%\r",
      "[====================================>                       ] 60%\r",
      "[========================================>                   ] 68%\r",
      "[=============================================>              ] 75%\r",
      "[================================================>           ] 81%\r",
      "[==================================================>         ] 84%\r",
      "[============================================================] 100%\r",
      "Rendering (2/2)                                                    \n",
      "[>                                                           ] 0%\r",
      "[===============>                                            ] 25%\r",
      "[============================================================] 100%\r",
      "Done                                                               \n"
     ]
    },
    {
     "data": {
      "text/plain": [
       "True"
      ]
     },
     "execution_count": 110,
     "metadata": {},
     "output_type": "execute_result"
    }
   ],
   "source": [
    "imgkit.from_file('templates-and-assets/image_out.html',\n",
    "                 'templates-and-assets/image_out.jpg',\n",
    "                 options={'width' : 800, 'height' : 600,\n",
    "                          'quality' : 100, 'encoding' : 'utf-8'})"
   ]
  }
 ],
 "metadata": {
  "kernelspec": {
   "display_name": "env",
   "language": "python",
   "name": "env"
  },
  "language_info": {
   "codemirror_mode": {
    "name": "ipython",
    "version": 3
   },
   "file_extension": ".py",
   "mimetype": "text/x-python",
   "name": "python",
   "nbconvert_exporter": "python",
   "pygments_lexer": "ipython3",
   "version": "3.6.9"
  }
 },
 "nbformat": 4,
 "nbformat_minor": 4
}
